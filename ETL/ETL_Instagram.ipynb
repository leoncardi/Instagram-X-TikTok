{
 "cells": [
  {
   "attachments": {},
   "cell_type": "markdown",
   "metadata": {},
   "source": [
    "#### ETL - DADOS INSTAGRAM:\n",
    "\n",
    "O objetivo deste algoritmo ETL é coletar dados relevantes do Instagram disponíveis no site BusinessOfApps, como visualizações de receita e usuários. Para isso, é utilizada a biblioteca Selenium para extrair os dados de tabelas e gráficos dinâmicos. Em seguida, o processamento é feito com o auxílio de Pandas e bibliotecas Python nativas. Por fim, os dados são exportados em formato CSV para viabilizar a análise e visualização em outros softwares.\n",
    "\n",
    "A diretoria da BusinessOfApps concedeu autorização para este projeto de raspagem de dados/ETL.\n"
   ]
  },
  {
   "attachments": {},
   "cell_type": "markdown",
   "metadata": {},
   "source": [
    "#### INICIALIZAÇÃO:"
   ]
  },
  {
   "cell_type": "code",
   "execution_count": 46,
   "metadata": {},
   "outputs": [
    {
     "name": "stdout",
     "output_type": "stream",
     "text": [
      "bibliotecas importadas.\n",
      "parâmetros de inicialização definidos.\n",
      "\n",
      "DataFrames criados:\n",
      "dataG1   :  para armazenar dados do 1° gráfico.\n",
      "dataG2   :  para armazenar dados do 2° gráfico.\n",
      "dataTb1  :  para armazenar dados da 1° tabela.\n",
      "dataTb2  :  para armazenar dados da 2° tabela.\n",
      "dataTb3  :  para armazenar dados da 3° tabela.\n",
      "\n"
     ]
    }
   ],
   "source": [
    "# INICIALIZAR BIBLIOTECAS E PARÂMETROS ESSENCIAIS\n",
    "# extração:\n",
    "from selenium import webdriver\n",
    "from selenium.webdriver.common.by import By\n",
    "from selenium.webdriver.common.action_chains import ActionChains\n",
    "from selenium.webdriver.firefox.options import Options\n",
    "from time import sleep\n",
    "# transformação:\n",
    "import pandas as pd\n",
    "from datetime import date, timedelta\n",
    "from dateutil.relativedelta import relativedelta\n",
    "# preview e finalização:\n",
    "import seaborn as sns\n",
    "import matplotlib.pyplot as plt\n",
    "import os\n",
    "\n",
    "print('bibliotecas importadas.')\n",
    "# ----------------------------------------------------------------------------------------\n",
    "\n",
    "\n",
    "# URL-alvo:\n",
    "target = 'https://www.businessofapps.com/data/instagram-statistics/' # fonte de dados.\n",
    "\n",
    "\n",
    "# DataFrames:\n",
    "dataG1   =  pd.DataFrame() # para armazenar dados do 1° gráfico.\n",
    "dataG2   =  pd.DataFrame() # para armazenar dados do 2° gráfico.\n",
    "dataTb1  =  pd.DataFrame() # para armazenar dados da 1° tabela.\n",
    "dataTb2  =  pd.DataFrame() # para armazenar dados da 2° tabela.\n",
    "dataTb3  =  pd.DataFrame() # para armazenar dados da 3° tabela.\n",
    "\n",
    "\n",
    "# parâmetros para extração (gráficos):\n",
    "graficos=[\n",
    "{   \n",
    "            'gID'    :  'dataG1', # id interno para este objeto.\n",
    "            'title'  :  'Instagram estimated revenues', # id/title do gráfico dentro do código-fonte do target.\n",
    "            'xpath'  :  '/html/body/div[3]/div/div[2]/div[1]/div/div[2]', # localização do dado a ser extraído. \n",
    "            'col'    :  'receita(milhoes)', # nome da coluna do DataFrame que será criada para armazenar os dados.\n",
    "            'range'  :  range(32, 0, -1), # configuração do intervalo utilizado para executar a automação de extração. \n",
    "            'df'     :  dataG1, # DataFrame deste objeto.\n",
    "            'expt'   :  'fReceitaInstagram' # nome final para o arquivo exportado.\n",
    "}\n",
    ",\n",
    "{\n",
    "            'gID'    :  'dataG2',\n",
    "            'title'  :  'Instagram monthly app users',\n",
    "            'xpath'  :  '/html/body/div[3]/div/div[2]/div[1]/div/div[2]',\n",
    "            'col'    :  'usuarios(milhoes)',\n",
    "            'range'  :   range(40, 0, -1),\n",
    "            'df'     :   dataG2,\n",
    "            'expt'   :  'fUsuariosInstagram'\n",
    "}      \n",
    "]\n",
    "# parâmetros para extração (tabelas):\n",
    "tabelas=[\n",
    "{\n",
    "            'tID'    :  'dataTb1',\n",
    "            'name'   :  'footable_76101', # id/name da tabela dentro do código-fonte do target.\n",
    "            'col'    :  ['regiao','usuarios'],\n",
    "            'df'     :  dataTb1,\n",
    "            'expt'   :  'dRegiaoInstagram'\n",
    "\n",
    "}\n",
    ",\n",
    "{\n",
    "            'tID'    :  'dataTb2',\n",
    "            'name'   :  'footable_76102',\n",
    "            'col'    :  ['idade','percentual'],\n",
    "            'df'     :  dataTb2,\n",
    "            'expt'   :  'dIdadeInstagram'\n",
    "}\n",
    ",\n",
    "{\n",
    "            'tID'    :  'dataTb3',\n",
    "            'name'   :  'footable_76104',\n",
    "            'col'    :  ['genero','percentual'], \n",
    "            'df'     :  dataTb3,\n",
    "            'expt'   :  'dGeneroInstagram'\n",
    "}\n",
    "]\n",
    "\n",
    "# parâmetros para tema Seaborn:\n",
    "tknt={\n",
    "\n",
    "            'axes.facecolor'    :  '#0e0e0e',   # define cor de fundo da área do gráfico.\n",
    "            'figure.facecolor'  :  '#0e0e0e',   # define cor de fundo da janela do gráfico.\n",
    "            'axes.grid'         :   False,      # desativa a grid. \n",
    "            'axes.edgecolor'    :  '#999999',   # define cor das bordas.\n",
    "            'axes.labelcolor'   :  '#999999',   # define cor dos rótulos\n",
    "            'grid.color'        :  '#999999',   # define cor da grid.\n",
    "            'grid.linestyle'    :  '-',         # define estilo de linha da grid\n",
    "            'text.color'        :  '#999999',   # define cor de textos\n",
    "            'xtick.color'       :  '#999999',   # define cor de marcador do eixo x \n",
    "            'ytick.color'       :  '#999999',   # define cor de marcador de eixo y\n",
    "}\n",
    "sns.set_theme(rc = tknt)\n",
    "\n",
    "\n",
    "# parâmetros para exportação:\n",
    "path_name     =  \"Load_DataBase\"  # nome do diretório\n",
    "exptGraficos  =  False            # verificador final da extração dos dados Gráficos\n",
    "exptTabelas   =  False            # verificador final da extração dos dados Tabelas\n",
    "\n",
    "\n",
    "print('parâmetros de inicialização definidos.')\n",
    "print('\\nDataFrames criados:\\ndataG1   :  para armazenar dados do 1° gráfico.\\ndataG2   :  para armazenar dados do 2° gráfico.\\ndataTb1  :  para armazenar dados da 1° tabela.\\ndataTb2  :  para armazenar dados da 2° tabela.\\ndataTb3  :  para armazenar dados da 3° tabela.\\n')"
   ]
  },
  {
   "cell_type": "code",
   "execution_count": 47,
   "metadata": {},
   "outputs": [
    {
     "name": "stdout",
     "output_type": "stream",
     "text": [
      "incializando o webdriver...\n",
      "\n",
      "webdriver inicializado com sucesso.\n",
      "fonte de dados/URL_alvo carregada com sucesso.\n"
     ]
    }
   ],
   "source": [
    "# EXECUTAR WEBDRIVER\n",
    "print('incializando o webdriver...\\n')\n",
    "\n",
    "try:    \n",
    "    op = Options(); op.add_argument('-headless')\n",
    "    driver = webdriver.Firefox(options=op)\n",
    "except Exception as e:\n",
    "    print('erro ao abrir o webdriver: ',e)\n",
    "\n",
    "try:\n",
    "    print( 'webdriver inicializado com sucesso.')\n",
    "    driver.get(target)\n",
    "    driver.implicitly_wait(5) \n",
    "    driver.execute_script(\"window.scrollTo(0, document.body.scrollHeight);\"); sleep(5)\n",
    "    print('fonte de dados/URL_alvo carregada com sucesso.')\n",
    "except Exception as e: \n",
    "    print('algoritmo não iniciado, webdriver não está funcionando corretamente: ',e)"
   ]
  },
  {
   "attachments": {},
   "cell_type": "markdown",
   "metadata": {},
   "source": [
    "#### EXTRAÇÃO:"
   ]
  },
  {
   "cell_type": "code",
   "execution_count": 48,
   "metadata": {},
   "outputs": [
    {
     "name": "stdout",
     "output_type": "stream",
     "text": [
      "localizando dados (gráficos)...\n",
      "\n",
      "gráfico localizado com sucesso: \"Instagram estimated revenues\"\n",
      "gráfico localizado com sucesso: \"Instagram monthly app users\"\n",
      "\n",
      "dados-alvo em gráficos localizados.\n"
     ]
    }
   ],
   "source": [
    "#  LOCALIZAR DADOS: GRÁFICOS \n",
    "print('localizando dados (gráficos)...\\n')\n",
    "\n",
    "try:\n",
    "    for grafico in graficos:\n",
    "        title = grafico['title']\n",
    "        findGrafico = driver.find_element(By.XPATH, f\"//iframe[@title='{title}']\")\n",
    "        print(f'gráfico localizado com sucesso: \"{title}\"')\n",
    "    print('\\ndados-alvo em gráficos localizados.')\n",
    "except Exception as e:\n",
    "    print(f'erro ao localizar dados:\\n',e)"
   ]
  },
  {
   "cell_type": "code",
   "execution_count": 49,
   "metadata": {},
   "outputs": [
    {
     "name": "stdout",
     "output_type": "stream",
     "text": [
      "localizando dados (tabelas)...\n",
      "\n",
      "tabela localizada com sucesso: \"footable_76101\"\n",
      "tabela localizada com sucesso: \"footable_76102\"\n",
      "tabela localizada com sucesso: \"footable_76104\"\n",
      "\n",
      "dados-alvo em tabelas localizados.\n"
     ]
    }
   ],
   "source": [
    "#  LOCALIZAR DADOS: TABELAS\n",
    "print('localizando dados (tabelas)...\\n')\n",
    "\n",
    "try:\n",
    "    for tabela in tabelas:\n",
    "        name = tabela['name']\n",
    "        findTabela = driver.find_element(By.ID, name)\n",
    "        print(f'tabela localizada com sucesso: \"{name}\"')\n",
    "    print('\\ndados-alvo em tabelas localizados.')\n",
    "except Exception as e:\n",
    "    print(f'erro ao localizar dados:\\n',e)"
   ]
  },
  {
   "cell_type": "code",
   "execution_count": 50,
   "metadata": {},
   "outputs": [
    {
     "name": "stdout",
     "output_type": "stream",
     "text": [
      "extraindo dados (gráficos)...\n",
      "\n",
      "   df  |                       raspagem                          |  dt  \n",
      "dataG1   dado extraído do gráfico \"Instagram estimated revenues\"   14570\n",
      "dataG1   dado extraído do gráfico \"Instagram estimated revenues\"   12194\n",
      "dataG1   dado extraído do gráfico \"Instagram estimated revenues\"   12681\n",
      "dataG1   dado extraído do gráfico \"Instagram estimated revenues\"   12000\n",
      "dataG1   dado extraído do gráfico \"Instagram estimated revenues\"   14140\n",
      "dataG1   dado extraído do gráfico \"Instagram estimated revenues\"   12186\n",
      "dataG1   dado extraído do gráfico \"Instagram estimated revenues\"   11920\n",
      "dataG1   dado extraído do gráfico \"Instagram estimated revenues\"   9388\n",
      "dataG1   dado extraído do gráfico \"Instagram estimated revenues\"   8732\n",
      "dataG1   dado extraído do gráfico \"Instagram estimated revenues\"   6835\n",
      "dataG1   dado extraído do gráfico \"Instagram estimated revenues\"   5899\n",
      "dataG1   dado extraído do gráfico \"Instagram estimated revenues\"   5375\n",
      "dataG1   dado extraído do gráfico \"Instagram estimated revenues\"   6016\n",
      "dataG1   dado extraído do gráfico \"Instagram estimated revenues\"   4966\n",
      "dataG1   dado extraído do gráfico \"Instagram estimated revenues\"   4459\n",
      "dataG1   dado extraído do gráfico \"Instagram estimated revenues\"   3997\n",
      "dataG1   dado extraído do gráfico \"Instagram estimated revenues\"   4031\n",
      "dataG1   dado extraído do gráfico \"Instagram estimated revenues\"   2609\n",
      "dataG1   dado extraído do gráfico \"Instagram estimated revenues\"   2030\n",
      "dataG1   dado extraído do gráfico \"Instagram estimated revenues\"   1693\n",
      "dataG1   dado extraído do gráfico \"Instagram estimated revenues\"   1664\n",
      "dataG1   dado extraído do gráfico \"Instagram estimated revenues\"   1080\n",
      "dataG1   dado extraído do gráfico \"Instagram estimated revenues\"   794\n",
      "dataG1   dado extraído do gráfico \"Instagram estimated revenues\"   568\n",
      "dataG1   dado extraído do gráfico \"Instagram estimated revenues\"   782\n",
      "dataG1   dado extraído do gráfico \"Instagram estimated revenues\"   430\n",
      "dataG1   dado extraído do gráfico \"Instagram estimated revenues\"   363\n",
      "dataG1   dado extraído do gráfico \"Instagram estimated revenues\"   261\n",
      "dataG1   dado extraído do gráfico \"Instagram estimated revenues\"   201\n",
      "dataG1   dado extraído do gráfico \"Instagram estimated revenues\"   141\n",
      "dataG1   dado extraído do gráfico \"Instagram estimated revenues\"   139\n",
      "dataG1   dado extraído do gráfico \"Instagram estimated revenues\"   111\n",
      "dataG2   dado extraído do gráfico \"Instagram monthly app users\"   2350\n",
      "dataG2   dado extraído do gráfico \"Instagram monthly app users\"   2335\n",
      "dataG2   dado extraído do gráfico \"Instagram monthly app users\"   2270\n",
      "dataG2   dado extraído do gráfico \"Instagram monthly app users\"   2205\n",
      "dataG2   dado extraído do gráfico \"Instagram monthly app users\"   2145\n",
      "dataG2   dado extraído do gráfico \"Instagram monthly app users\"   2010\n",
      "dataG2   dado extraído do gráfico \"Instagram monthly app users\"   1890\n",
      "dataG2   dado extraído do gráfico \"Instagram monthly app users\"   1825\n",
      "dataG2   dado extraído do gráfico \"Instagram monthly app users\"   1755\n",
      "dataG2   dado extraído do gráfico \"Instagram monthly app users\"   1630\n",
      "dataG2   dado extraído do gráfico \"Instagram monthly app users\"   1520\n",
      "dataG2   dado extraído do gráfico \"Instagram monthly app users\"   1365\n",
      "dataG2   dado extraído do gráfico \"Instagram monthly app users\"   1300\n",
      "dataG2   dado extraído do gráfico \"Instagram monthly app users\"   1255\n",
      "dataG2   dado extraído do gráfico \"Instagram monthly app users\"   1210\n",
      "dataG2   dado extraído do gráfico \"Instagram monthly app users\"   1160\n",
      "dataG2   dado extraído do gráfico \"Instagram monthly app users\"   1115\n",
      "dataG2   dado extraído do gráfico \"Instagram monthly app users\"   1060\n",
      "dataG2   dado extraído do gráfico \"Instagram monthly app users\"   1000\n",
      "dataG2   dado extraído do gráfico \"Instagram monthly app users\"   960\n",
      "dataG2   dado extraído do gráfico \"Instagram monthly app users\"   885\n",
      "dataG2   dado extraído do gráfico \"Instagram monthly app users\"   800\n",
      "dataG2   dado extraído do gráfico \"Instagram monthly app users\"   700\n",
      "dataG2   dado extraído do gráfico \"Instagram monthly app users\"   640\n",
      "dataG2   dado extraído do gráfico \"Instagram monthly app users\"   600\n",
      "dataG2   dado extraído do gráfico \"Instagram monthly app users\"   545\n",
      "dataG2   dado extraído do gráfico \"Instagram monthly app users\"   500\n",
      "dataG2   dado extraído do gráfico \"Instagram monthly app users\"   475\n",
      "dataG2   dado extraído do gráfico \"Instagram monthly app users\"   435\n",
      "dataG2   dado extraído do gráfico \"Instagram monthly app users\"   400\n",
      "dataG2   dado extraído do gráfico \"Instagram monthly app users\"   370\n",
      "dataG2   dado extraído do gráfico \"Instagram monthly app users\"   335\n",
      "dataG2   dado extraído do gráfico \"Instagram monthly app users\"   300\n",
      "dataG2   dado extraído do gráfico \"Instagram monthly app users\"   250\n",
      "dataG2   dado extraído do gráfico \"Instagram monthly app users\"   200\n",
      "dataG2   dado extraído do gráfico \"Instagram monthly app users\"   175\n",
      "dataG2   dado extraído do gráfico \"Instagram monthly app users\"   150\n",
      "dataG2   dado extraído do gráfico \"Instagram monthly app users\"   130\n",
      "dataG2   dado extraído do gráfico \"Instagram monthly app users\"   110\n",
      "dataG2   dado extraído do gráfico \"Instagram monthly app users\"   90\n",
      "\n",
      "dados-alvo em gráficos foram extraídos.\n"
     ]
    }
   ],
   "source": [
    "# EXTRAIR DADOS: GRÁFICOS\n",
    "print('extraindo dados (gráficos)...\\n')\n",
    "print('   df  |                       raspagem                          |  dt  ')\n",
    "\n",
    "def extrairGraficos(numGrafico,totalGraficos):\n",
    "    idx = (numGrafico - 1) % totalGraficos\n",
    "    extracaoGraficos = graficos[idx]\n",
    "    extraidos = []\n",
    "\n",
    "    try:\n",
    "        moveto_graficos = driver.find_element(By.XPATH, f\"//iframe[@title='{extracaoGraficos['title']}']\")\n",
    "        driver.execute_script('arguments[0].scrollIntoView();', moveto_graficos); sleep(6)\n",
    "        driver.switch_to.frame(moveto_graficos)\n",
    "\n",
    "    except Exception as e:\n",
    "        print('erro ao executar automação: ',e)\n",
    "\n",
    "    try:\n",
    "        for i in extracaoGraficos['range']:\n",
    "            sleep(0.3)\n",
    "            iframeGrafico = driver.find_element(By.CSS_SELECTOR, f'path.igc-column:nth-child({i})')\n",
    "            ActionChains(driver).move_to_element(iframeGrafico).perform()\n",
    "            sleep(0.3)\n",
    "            extraido = driver.find_element(By.XPATH, (extracaoGraficos['xpath'])).text\n",
    "            extraidos.append(extraido)\n",
    "            print(f'{extracaoGraficos[\"gID\"]}   dado extraído do gráfico \"{extracaoGraficos[\"title\"]}\"   {extraido}')\n",
    "\n",
    "        extracaoGraficos['df'][extracaoGraficos['col']] = extraidos\n",
    "        driver.switch_to.default_content() \n",
    "    except Exception as e:\n",
    "        print('erro ao executar automação de extração: ',e)\n",
    "               \n",
    "if dataG1.empty:\n",
    "    extrairGraficos(1,2)\n",
    "    if dataG2.empty:\n",
    "        extrairGraficos(2,2)\n",
    "        if  dataG1.empty and dataG2.empty:\n",
    "            print('\\nhá dados pendentes de extração.')            \n",
    "        else:\n",
    "            print('\\ndados-alvo em gráficos foram extraídos.') "
   ]
  },
  {
   "cell_type": "code",
   "execution_count": 51,
   "metadata": {},
   "outputs": [
    {
     "name": "stdout",
     "output_type": "stream",
     "text": [
      "extraindo dados (tabelas)...\n",
      "\n",
      "dataTb1 - dados da tabela footable_76101 foram extraídos e alocados no DataFrame, dados extraídos: ['Asia-Pacific', 'Europe', 'South America', 'North America', 'Middle East', 'Africa', 'Australia']\n",
      "dataTb1 - dados da tabela footable_76101 foram extraídos e alocados no DataFrame, dados extraídos: ['893', '338', '289', '222', '112', '96', '22']\n",
      "dataTb2 - dados da tabela footable_76102 foram extraídos e alocados no DataFrame, dados extraídos: ['13-17', '18-24', '25-34', '35-44', '45-54', '55-64', '65+']\n",
      "dataTb2 - dados da tabela footable_76102 foram extraídos e alocados no DataFrame, dados extraídos: ['7', '30', '33', '16', '8', '4', '2']\n",
      "dataTb3 - dados da tabela footable_76104 foram extraídos e alocados no DataFrame, dados extraídos: ['Male', 'Female']\n",
      "dataTb3 - dados da tabela footable_76104 foram extraídos e alocados no DataFrame, dados extraídos: ['49.2', '50.8']\n",
      "\n",
      "dados-alvo em tabelas foram extraídos.\n"
     ]
    }
   ],
   "source": [
    "# EXTRAIR DADOS: TABELAS\n",
    "print('extraindo dados (tabelas)...\\n')\n",
    "\n",
    "def extrairtabelas(numTabela,totaltabelas):\n",
    "\n",
    "    idx = (numTabela - 1) % totaltabelas # calcula o índice da tabela a ser extraída\n",
    "    infoTabela = tabelas[idx] # obtém informações da tabela a ser extraída\n",
    "    \n",
    "    tabela = driver.find_element(By.ID, (infoTabela['name'])) # encontra a tabela na página\n",
    "    linhas = tabela.find_elements(By.TAG_NAME, \"tr\") # encontra as linhas da tabela\n",
    "    \n",
    "    for i, col in enumerate(infoTabela[\"col\"]): # iterando sobre as colunas da tabela especificada e obtendo o índice e o valor de cada coluna\n",
    "        extracaotabelas = [] # inicializando a lista vazia para armazenar os dados extraídos das colunas\n",
    "        for linha in linhas: # iterando sobre as linhas da tabela\n",
    "            celulas = linha.find_elements(By.TAG_NAME, \"td\") # encontrando as células (tag \"td\") de cada linha\n",
    "            \n",
    "            if len(celulas) > i: # verificando se há mais células na linha do que o índice da coluna atual\n",
    "               extracaotabelas.append(celulas[i].text) # se houver, o texto contido na célula é adicionado à lista \"extracaotabelas\"\n",
    "\n",
    "        infoTabela['df'][col] = extracaotabelas # adiciona os dados da coluna à informação da tabela\n",
    "        print(f'{infoTabela[\"tID\"]} - dados da tabela {infoTabela[\"name\"]} foram extraídos e alocados no DataFrame, dados extraídos: {extracaotabelas}')\n",
    "if dataTb1.empty:\n",
    "    extrairtabelas(1,3)\n",
    "    if dataTb2.empty:\n",
    "        extrairtabelas(2,3)\n",
    "        if dataTb3.empty:\n",
    "            extrairtabelas(3,3)\n",
    "            if not dataTb1.empty and not dataTb2.empty and not dataTb3.empty:\n",
    "                print('\\ndados-alvo em tabelas foram extraídos.')"
   ]
  },
  {
   "cell_type": "code",
   "execution_count": 52,
   "metadata": {},
   "outputs": [
    {
     "name": "stdout",
     "output_type": "stream",
     "text": [
      "etapa de extração concluída, encerrando webdriver... \n",
      "webdriver encerrado.\n"
     ]
    }
   ],
   "source": [
    "# ENCERRAR WEBDRIVER\n",
    "print('etapa de extração concluída, encerrando webdriver... ')\n",
    "\n",
    "try:\n",
    "    driver.close()\n",
    "    print('webdriver encerrado.')\n",
    "except Exception as e:\n",
    "    print(' \\n Não foi possível encerrar o webdriver corretamente. (Firefox.exe - Webdriver)\\n', e)"
   ]
  },
  {
   "attachments": {},
   "cell_type": "markdown",
   "metadata": {},
   "source": [
    "#### TRANSFORMAÇÃO:"
   ]
  },
  {
   "cell_type": "code",
   "execution_count": 53,
   "metadata": {},
   "outputs": [
    {
     "name": "stdout",
     "output_type": "stream",
     "text": [
      "transformando dados dos DataFrames: dataG1 e dataG2 (formatos)...\n",
      "dataG1: dados da coluna \"receita(milhoes)\" foram transformados para o formato númerico com sucesso.\n",
      "dataG2: dados da coluna \"usuarios(milhoes)\" foram transformados para o formato númerico com sucesso.\n"
     ]
    }
   ],
   "source": [
    "# TRANSFORMAR DADOS: GRÁFICOS (FORMATANDO VALORES DA COLUNA DE RECEITA)\n",
    "print(f'transformando dados dos DataFrames: {graficos[0].get(\"gID\")} e {graficos[1].get(\"gID\")} (formatos)...')\n",
    "\n",
    "for grafico in graficos:\n",
    "    df  = grafico.get('df')\n",
    "    col = grafico.get('col')\n",
    "    gID = grafico.get('gID')\n",
    "\n",
    "    try:\n",
    "        if df[col].dtype != 'int64': # tarefa 1: tratar tipos \n",
    "            df[col] = pd.to_numeric(df[col], errors='coerce')\n",
    "            print(f'{gID}: dados da coluna \"{col}\" foram transformados para o formato númerico com sucesso.')\n",
    "  \n",
    "        else:\n",
    "            print(f'{gID}: dados da coluna \"{col}\" já é do tipo númerico, sem necessidade de transformação.')\n",
    "    except Exception as e:\n",
    "        print(f'{gID}: erro ao transformar ou localizar dados da coluna \"{col}\"\\n.', e)"
   ]
  },
  {
   "cell_type": "code",
   "execution_count": 54,
   "metadata": {},
   "outputs": [
    {
     "name": "stdout",
     "output_type": "stream",
     "text": [
      "transformando dados dos DataFrames: dataG1 e dataG2 (datas de fechamento)...\n",
      "dataG1: datas de fechamento trimestral geradas com sucesso para o DataFrame.\n",
      "dataG2: datas de fechamento trimestral geradas com sucesso para o DataFrame.\n"
     ]
    }
   ],
   "source": [
    "# TRANSFORMAR DADOS: GRÁFICOS (DATAS DE FECHAMENTO TRIMESTRAL)\n",
    "print(f'transformando dados dos DataFrames: {graficos[0].get(\"gID\")} e {graficos[1].get(\"gID\")} (datas de fechamento)...')\n",
    "\n",
    "def gerarFechamentos(inicio: date, trimestres: int, dataframe: pd.DataFrame) -> pd.DataFrame:\n",
    "    datasFechamento = []\n",
    "\n",
    "    try:\n",
    "        for i in range(trimestres):\n",
    "            fechamento = inicio + relativedelta(day = 31, months = 2)\n",
    "            datasFechamento.append(fechamento.strftime('%d-%m-%Y'))\n",
    "            inicio -= relativedelta(months = 3)\n",
    "    except Exception as e:\n",
    "        print('erro ao gerar datas de fechamento trimestral:', e)\n",
    "\n",
    "    dataframe['fechamento'] = pd.to_datetime(datasFechamento, format='%d-%m-%Y')\n",
    "    return dataframe\n",
    "inicio = date(2022, 10, 31)\n",
    "dataG1 = gerarFechamentos(inicio, graficos[0]['range'][0], dataG1)\n",
    "if dataG1['fechamento'].dtype == 'datetime64[ns]':\n",
    "    print(f'{graficos[0].get(\"gID\")}: datas de fechamento trimestral geradas com sucesso para o DataFrame.')\n",
    "    dataG2 = gerarFechamentos(inicio, graficos[1]['range'][0], dataG2)\n",
    "    if dataG2['fechamento'].dtype == 'datetime64[ns]':\n",
    "        print(f'{graficos[1].get(\"gID\")}: datas de fechamento trimestral geradas com sucesso para o DataFrame.')"
   ]
  },
  {
   "cell_type": "code",
   "execution_count": 55,
   "metadata": {},
   "outputs": [
    {
     "name": "stdout",
     "output_type": "stream",
     "text": [
      "transformando dados dos DataFrame: dataTb1 (formatações e tratamentos)...\n",
      "\n",
      "dataTb1: dados da coluna \"regiao\" traduzidos para o português com sucesso.\n",
      "dataTb1: dados da coluna \"usuarios\" foram transformados para o formato númerico com sucesso.\n",
      "\n",
      "dataTb1: todos os dados do DataFrame foram transformados com sucesso e estão prontos para uso.\n"
     ]
    }
   ],
   "source": [
    "# TRANSFORMAR DADOS: TABELA 1 (TRATAMENTO DE FORMATOS)\n",
    "print(f'transformando dados dos DataFrame: {tabelas[0].get(\"tID\")} (formatações e tratamentos)...\\n')\n",
    "\n",
    "try: # tarefa 1: traduzir conteúdo da 1° coluna\n",
    "    regiaoPTBR = False\n",
    "    dataTb1['regiao'] = dataTb1['regiao'].replace({\n",
    "              \n",
    "        'Africa'          :   'África', \n",
    "        'Asia-Pacific'    :   'Ásia-Pacífico', \n",
    "        'Europe'          :   'Europa', \n",
    "        'North America'   :   'América do Norte', \n",
    "        'South America'   :   'América do Sul', \n",
    "        'Australia'       :   'Austrália', \n",
    "        'Middle East'     :   'Oriente Médio' \n",
    "    })\n",
    "    regiaoPTBR = True\n",
    "    print(f'{tabelas[0].get(\"tID\")}: dados da coluna \"{tabelas[0].get(\"col\")[0]}\" traduzidos para o português com sucesso.')\n",
    "except Exception as e:\n",
    "    print(f'{tabelas[0].get(\"tID\")}: erro ao traduzir ou localizar dados da coluna \"{tabelas[0].get(\"col\")[0]}\":', e)\n",
    "    \n",
    "    \n",
    "try: # tarefa 2: tratar tipos da 2° coluna\n",
    "    if dataTb1[tabelas[0].get(\"col\")[1]].dtype != 'int64':\n",
    "        dataTb1[tabelas[0].get(\"col\")[1]] = pd.to_numeric(dataTb1[tabelas[0].get(\"col\")[1]], errors='coerce')\n",
    "        print(f'{tabelas[0].get(\"tID\")}: dados da coluna \"{tabelas[0].get(\"col\")[1]}\" foram transformados para o formato númerico com sucesso.')\n",
    "\n",
    "    else:\n",
    "        print(f'{tabelas[0].get(\"tID\")}: dados da coluna \"{tabelas[0].get(\"col\")[1]}\" já é do tipo númerico, sem necessidade de transformação.')\n",
    "\n",
    "except Exception as e:\n",
    "    print(f'{tabelas[0].get(\"tID\")}: erro ao transformar ou localizar dados da coluna \"{tabelas[0].get(\"col\")[1]}\"\\n.', e)\n",
    "\n",
    "if regiaoPTBR == True and dataTb1[tabelas[0].get(\"col\")[1]].dtype == 'int64':\n",
    "    print(f'\\n{tabelas[0].get(\"tID\")}: todos os dados do DataFrame foram transformados com sucesso e estão prontos para uso.')\n",
    "else:\n",
    "    print(f'\\n{tabelas[0].get(\"tID\")}: dados do DataFrame não foram transformados completamente e não estão prontos para uso.')"
   ]
  },
  {
   "cell_type": "code",
   "execution_count": 56,
   "metadata": {},
   "outputs": [
    {
     "name": "stdout",
     "output_type": "stream",
     "text": [
      "transformando dados dos DataFrame: dataTb2 (formatações e tratamentos)...\n",
      "\n",
      "dataTb2: coluna \"idade\" já é do tipo str, sem necessidade de transformação.\n",
      "dataTb2: coluna \"percentual\" transformada para o tipo % com sucesso.\n"
     ]
    }
   ],
   "source": [
    "# TRANSFORMAR DADOS: TABELA 2 (TRATAMENTO DE FORMATOS)\n",
    "print(f'transformando dados dos DataFrame: {tabelas[1].get(\"tID\")} (formatações e tratamentos)...\\n')\n",
    "\n",
    "print(f'{tabelas[1].get(\"tID\")}: coluna \"{tabelas[1].get(\"col\")[0]}\" já é do tipo str, sem necessidade de transformação.')\n",
    "\n",
    "if dataTb2[tabelas[1].get(\"col\")[1]].dtype != 'float': # tarefa 1: tratar tipos da 2° coluna\n",
    "    try:\n",
    "        dataTb2[tabelas[1].get(\"col\")[1]] = pd.to_numeric(dataTb2[tabelas[1].get(\"col\")[1]], errors='coerce')\n",
    "        dataTb2[tabelas[1].get(\"col\")[1]] = (dataTb2[tabelas[1].get(\"col\")[1]]*100)/100\n",
    "        print(f'{tabelas[1].get(\"tID\")}: coluna \"{tabelas[1].get(\"col\")[1]}\" transformada para o tipo % com sucesso.')\n",
    "\n",
    "    except Exception as e:\n",
    "        print(f'{tabelas[1].get(\"tID\")}: não foi possível transformar ou localizar os dados da coluna \"{tabelas[1].get(\"col\")[1]}\"\\n.', e)\n",
    "else:\n",
    "    print(f'{tabelas[1].get(\"tID\")}: coluna \"{tabelas[1].get(\"col\")[1]}\" já é do tipo %, sem necessidade de transformação.')"
   ]
  },
  {
   "cell_type": "code",
   "execution_count": 57,
   "metadata": {},
   "outputs": [
    {
     "name": "stdout",
     "output_type": "stream",
     "text": [
      "transformando dados dos DataFrame: dataTb3 (formatações e tratamentos)...\n",
      "\n",
      "dataTb3: dados da coluna \"genero\" traduzidos para o português com sucesso.\n",
      "dataTb3: coluna \"genero\" já é do tipo str, sem necessidade de transformação.\n",
      "dataTb3: coluna \"percentual\" transformada para o tipo % com sucesso.\n"
     ]
    }
   ],
   "source": [
    "# TRANSFORMAR DADOS: TABELA 3 (TRATAMENTO DE FORMATOS)\n",
    "print(f'transformando dados dos DataFrame: {tabelas[2].get(\"tID\")} (formatações e tratamentos)...\\n')\n",
    "\n",
    "try: # tarefa 1: traduzir conteúdo da 1° coluna\n",
    "    dataTb3['genero'] = dataTb3['genero'].replace({\n",
    "              \n",
    "        'Male'      :   'Masculino', \n",
    "        'Female'    :   'Feminino'\n",
    "    })\n",
    "    task1_dataTb3 = True\n",
    "    print(f'{tabelas[2].get(\"tID\")}: dados da coluna \"{tabelas[2].get(\"col\")[0]}\" traduzidos para o português com sucesso.')\n",
    "except Exception as e:\n",
    "    print(f'{tabelas[2].get(\"tID\")}: erro ao traduzir ou localizar dados da coluna \"{tabelas[2].get(\"col\")[0]}\":', e)\n",
    "print(f'{tabelas[2].get(\"tID\")}: coluna \"{tabelas[2].get(\"col\")[0]}\" já é do tipo str, sem necessidade de transformação.')   \n",
    "\n",
    "\n",
    "if dataTb3[tabelas[2].get(\"col\")[1]].dtype != 'float': # tarefa 2: tratar tipos da 2° coluna\n",
    "    try:\n",
    "        dataTb3[tabelas[2].get(\"col\")[1]] = pd.to_numeric(dataTb3[tabelas[2].get(\"col\")[1]], errors='coerce')\n",
    "        dataTb3[tabelas[2].get(\"col\")[1]] = (dataTb3[tabelas[2].get(\"col\")[1]]*100)/100\n",
    "        print(f'{tabelas[2].get(\"tID\")}: coluna \"{tabelas[2].get(\"col\")[1]}\" transformada para o tipo % com sucesso.')        \n",
    "        task2_dataTb3 = True\n",
    "    except Exception as e:\n",
    "        print(f'{tabelas[2].get(\"tID\")}: não foi possível transformar ou localizar os dados da coluna \"{tabelas[2].get(\"col\")[1]}\"\\n.', e)\n",
    "else:\n",
    "    print(f'{tabelas[2].get(\"tID\")}: coluna \"{tabelas[2].get(\"col\")[1]}\" já é do tipo %, sem necessidade de transformação.')"
   ]
  },
  {
   "cell_type": "code",
   "execution_count": 58,
   "metadata": {},
   "outputs": [
    {
     "name": "stdout",
     "output_type": "stream",
     "text": [
      "gerando dataviz de teste/preview dos dados referentes a dataG1 e dataG2...\n"
     ]
    },
    {
     "data": {
      "image/png": "[encoded data removed]",
      "text/plain": [
       "<Figure size 1500x300 with 2 Axes>"
      ]
     },
     "metadata": {},
     "output_type": "display_data"
    }
   ],
   "source": [
    "# DATAVIZ: DATAFRAME DAODS DOS GRÁFICOS\n",
    "print(f'gerando dataviz de teste/preview dos dados referentes a {graficos[0].get(\"gID\")} e {graficos[1].get(\"gID\")}...')\n",
    "\n",
    "try:  \n",
    "    plt.subplot(1, 2, 1) # 1 linha, 2 colunas, 1º subplot\n",
    "    v1 = sns.lineplot(data=graficos[0].get('df'), x='fechamento', y='receita(milhoes)', marker='o', markersize=4, markerfacecolor='#9aa5ce', color='#9aa5ce')\n",
    "    v1.figure.set_size_inches(15, 3)\n",
    "    plt.title(graficos[0].get(\"gID\"))\n",
    "except Exception as e:\n",
    "    print(f\"{graficos[0].get('gID')}: erro ao projetar gráfico:\", e)\n",
    "\n",
    "try:\n",
    "    plt.subplot(1, 2, 2) \n",
    "    v2 = sns.lineplot(data=graficos[1].get('df'), x='fechamento', y='usuarios(milhoes)', marker='o', markersize=4, markerfacecolor='#9aa5ce', color='#9aa5ce')\n",
    "    v2.figure.set_size_inches(15, 3)\n",
    "    plt.title(graficos[1].get(\"gID\"))\n",
    "except Exception as e:\n",
    "    print(f\"{graficos[1].get('gID')}: erro ao projetar gráfico:\", e)\n",
    "plt.show()"
   ]
  },
  {
   "cell_type": "code",
   "execution_count": 59,
   "metadata": {},
   "outputs": [
    {
     "name": "stdout",
     "output_type": "stream",
     "text": [
      "gerando dataviz de teste/preview dos dados referentes a dataTb1, dataTb2 e dataTb3...\n"
     ]
    },
    {
     "data": {
      "image/png": "[encoded data removed]",
      "text/plain": [
       "<Figure size 1500x300 with 3 Axes>"
      ]
     },
     "metadata": {},
     "output_type": "display_data"
    }
   ],
   "source": [
    "# DATAVIZ: DATAFRAME DAODS DAS TABELAS\n",
    "print(f'gerando dataviz de teste/preview dos dados referentes a {tabelas[0].get(\"tID\")}, {tabelas[1].get(\"tID\")} e {tabelas[2].get(\"tID\")}...')\n",
    "\n",
    "try:\n",
    "    plt.subplot(1, 3, 1) \n",
    "    v1 = sns.barplot(data=tabelas[0].get('df'), x='usuarios', y='regiao', color='#9aa5ce')\n",
    "    v1.figure.set_size_inches(15, 3)\n",
    "    plt.title(tabelas[0].get(\"tID\"))\n",
    "except Exception as e:\n",
    "    print(f\"{tabelas[0].get('tID')}: erro ao projetar o gráfico.\\n\",e)\n",
    "\n",
    "try:\n",
    "    plt.subplot(1, 3, 2) \n",
    "    v1 = sns.barplot(data=tabelas[1].get('df'), x='idade', y='percentual', color='#9aa5ce')\n",
    "    v1.figure.set_size_inches(15, 3)\n",
    "    plt.title(tabelas[1].get(\"tID\"))\n",
    "except Exception as e:\n",
    "    print(f\"{tabelas[1].get('tID')}: erro ao projetar o gráfico.\\n\",e)\n",
    "\n",
    "try:\n",
    "    plt.subplot(1, 3, 3)\n",
    "    v1 = sns.barplot(data=tabelas[2].get('df'), x='genero', y='percentual', color='#9aa5ce')\n",
    "    v1.figure.set_size_inches(15, 3)\n",
    "    plt.title(tabelas[2].get(\"tID\"))\n",
    "except Exception as e:\n",
    "    print(f\"{tabelas[2].get('tID')}: erro ao projetar o gráfico:\\n\",e)"
   ]
  },
  {
   "attachments": {},
   "cell_type": "markdown",
   "metadata": {},
   "source": [
    "#### LOAD/CARREGAMENTO:"
   ]
  },
  {
   "cell_type": "code",
   "execution_count": 60,
   "metadata": {},
   "outputs": [
    {
     "name": "stdout",
     "output_type": "stream",
     "text": [
      "Exportando dados...(gráficos - dataG1 e dataG2) \n",
      "\n",
      "dataG1: exportado com sucesso como: \"fReceitaInstagram.csv\" - 1/2\n",
      "dataG2: exportado com sucesso como: \"fUsuariosInstagram.csv\" - 2/2\n",
      "\n",
      "dados exportados com sucesso e estão prontos para utilização no diretório: \"Load_DataBase\"\n"
     ]
    }
   ],
   "source": [
    "# LOAD: GRÁFICOS\n",
    "print(f'Exportando dados...(gráficos - {graficos[0].get(\"gID\")} e {graficos[1].get(\"gID\")}) \\n')\n",
    "\n",
    "graficosTotal =  len(graficos)\n",
    "graficosExpts =  0\n",
    "\n",
    "if not os.path.exists(path_name):\n",
    "    os.makedirs(path_name)\n",
    "\n",
    "for i, grafico in enumerate(graficos):\n",
    "    if grafico['df'].empty:\n",
    "        print(f'O gráfico \"{grafico[\"gID\"]}\" não foi exportado pois o DataFrame está vazio.')\n",
    "\n",
    "    pth = os.path.join(path_name, f\"{grafico['expt']}.csv\")\n",
    "    grafico['df'].to_csv(pth, index=False)\n",
    "    graficosExpts += 1\n",
    "    print(f'{grafico[\"gID\"]}: exportado com sucesso como: \"{grafico[\"expt\"]}.csv\" - {graficosExpts}/{graficosTotal}')\n",
    "\n",
    "if graficosExpts == graficosTotal:\n",
    "    exptGraficos = True\n",
    "    print(f'\\ndados exportados com sucesso e estão prontos para utilização no diretório: \"{path_name}\"')\n",
    "else:\n",
    "    print(f'\\napenas {graficosExpts} gráficos de {graficosTotal} foram exportados.')"
   ]
  },
  {
   "cell_type": "code",
   "execution_count": 61,
   "metadata": {},
   "outputs": [
    {
     "name": "stdout",
     "output_type": "stream",
     "text": [
      "Exportando dados...(gráficos - dataTb1, dataTb2 e dataTb3)\n",
      "\n",
      "dataTb1: exportado com sucesso como: \"dRegiaoInstagram.csv\" - 1/3\n",
      "dataTb2: exportado com sucesso como: \"dIdadeInstagram.csv\" - 2/3\n",
      "dataTb3: exportado com sucesso como: \"dGeneroInstagram.csv\" - 3/3\n",
      "\n",
      "dados exportados com sucesso e estão prontos para utilização no diretório: \"Load_DataBase\"\n"
     ]
    }
   ],
   "source": [
    "# LOAD: TABELAS\n",
    "print(f'Exportando dados...(gráficos - {tabelas[0].get(\"tID\")}, {tabelas[1].get(\"tID\")} e {tabelas[2].get(\"tID\")})\\n')\n",
    "\n",
    "tabelasTotal  =  len(tabelas)\n",
    "tabelasExpts  =  0\n",
    "\n",
    "if not os.path.exists(path_name):\n",
    "    os.makedirs(path_name)\n",
    "\n",
    "for i, tabela in enumerate(tabelas):\n",
    "    if tabela['df'].empty:\n",
    "        print(f'O gráfico \"{tabela[\"tID\"]}\" não foi exportado pois o DataFrame está vazio.')\n",
    "\n",
    "    pth = os.path.join(path_name, f\"{tabela['expt']}.csv\")\n",
    "    tabela['df'].to_csv(pth, index=False)\n",
    "    tabelasExpts += 1\n",
    "    print(f'{tabela[\"tID\"]}: exportado com sucesso como: \"{tabela[\"expt\"]}.csv\" - {tabelasExpts}/{tabelasTotal}')\n",
    "\n",
    "if tabelasExpts == tabelasTotal:\n",
    "    exptTabelas = True\n",
    "    print(f'\\ndados exportados com sucesso e estão prontos para utilização no diretório: \"{path_name}\"')\n",
    "else:\n",
    "    print(f'\\napenas {tabelasExpts} gráficos de {tabelasTotal} foram exportados.')"
   ]
  },
  {
   "cell_type": "code",
   "execution_count": 62,
   "metadata": {},
   "outputs": [
    {
     "name": "stdout",
     "output_type": "stream",
     "text": [
      "ETL executado completamente, o algoritmo concluiu seu objetivo.\n"
     ]
    }
   ],
   "source": [
    "# ENCERRAMENTO\n",
    "if exptGraficos and exptTabelas:\n",
    "    print('ETL executado completamente, o algoritmo concluiu seu objetivo.')"
   ]
  }
 ],
 "metadata": {
  "kernelspec": {
   "display_name": "base",
   "language": "python",
   "name": "python3"
  },
  "language_info": {
   "codemirror_mode": {
    "name": "ipython",
    "version": 3
   },
   "file_extension": ".py",
   "mimetype": "text/x-python",
   "name": "python",
   "nbconvert_exporter": "python",
   "pygments_lexer": "ipython3",
   "version": "3.9.13"
  },
  "orig_nbformat": 4,
  "vscode": {
   "interpreter": {
    "hash": "797275cac0bda5bc3fb52dfb9729462aa6cfb1626abddbbb754ea920c4a4033e"
   }
  }
 },
 "nbformat": 4,
 "nbformat_minor": 2
}
