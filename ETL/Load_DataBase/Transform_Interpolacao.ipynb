{
 "cells": [
  {
   "attachments": {},
   "cell_type": "markdown",
   "metadata": {},
   "source": [
    "#### ALGORITMO - ANÁLISE ESTATÍSTICA:\n",
    "\n",
    "O objetivo deste algoritmo é realizar análises e transformações de dados obtidos através de raspagem no site BusinessOfApps após processos de ETL.\n",
    "\n",
    "A diretoria da BusinessOfApps concedeu autorização para este projeto de raspagem de dados/ETL.\n",
    "\n"
   ]
  },
  {
   "cell_type": "code",
   "execution_count": 1,
   "metadata": {},
   "outputs": [],
   "source": [
    "import pandas as pd\n",
    "import numpy as np\n",
    "from scipy.interpolate import interp1d"
   ]
  },
  {
   "cell_type": "code",
   "execution_count": 3,
   "metadata": {},
   "outputs": [],
   "source": [
    "def interpolate_data(file_name, num_customers):\n",
    "    # Load the data into a pandas dataframe\n",
    "    df = pd.read_csv(file_name)\n",
    "\n",
    "    # Create the new age range categories\n",
    "    new_age_ranges = ['13-17', '18-24' , '25-34' , '35-44' , '45-54' , '55-64' , '65+']\n",
    "\n",
    "    # Create a list of age range start and end points\n",
    "    age_range_starts = [int(range.split('-')[0]) if '+' not in range else int(range.split('+')[0]) for range in df['idade']]\n",
    "    age_range_ends = [int(range.split('-')[1]) if '+' not in range else int(range.split('+')[0]) for range in df['idade']]\n",
    "    age_range_midpoints = [(start + end) / 2 for start, end in zip(age_range_starts, age_range_ends)]\n",
    "\n",
    "    num_customers_in_range = [int(num_customers * proportion / 100) for proportion in df['percentual']] # Calculate the number of customers in each age range based on the proportion and total number of customers\n",
    "\n",
    "    f = interp1d(age_range_midpoints, num_customers_in_range, kind='linear')\n",
    "    new_num_customers_in_range = f(np.linspace(min(age_range_midpoints), max(age_range_midpoints), len(new_age_ranges))) # Perform the linear interpolation\n",
    "\n",
    "    new_percentages = [(num / num_customers * 100) for num in new_num_customers_in_range] # Calculate the percentage of customers in each new age range\n",
    "    new_percentages = [round(percentage, 2) for percentage in new_percentages] # Round the percentages to two decimal places\n",
    "\n",
    "    total_percentage = sum(new_percentages)\n",
    "    new_percentages = [round(percentage * (100 / total_percentage), 0) for percentage in new_percentages] # Adjust the percentages to ensure that they add up to 100 and round the result.\n",
    "\n",
    "    df_interp = pd.DataFrame({'idade': new_age_ranges, 'percentual': new_percentages}) # Create a new dataframe with the interpolated data \n",
    "    df_interp.to_csv(f'Interp_{file_name.split(\".\")[0]}.csv', index=False) # Save the interpolated data to a new CSV\n",
    "interpolate_data('dIdadeInstagram.csv', 2335000000) # Interpolate data for Company A\n",
    "interpolate_data('dIdadeTikTok.csv', 1534000000) # Interpolate data for Company B"
   ]
  }
 ],
 "metadata": {
  "kernelspec": {
   "display_name": "base",
   "language": "python",
   "name": "python3"
  },
  "language_info": {
   "codemirror_mode": {
    "name": "ipython",
    "version": 3
   },
   "file_extension": ".py",
   "mimetype": "text/x-python",
   "name": "python",
   "nbconvert_exporter": "python",
   "pygments_lexer": "ipython3",
   "version": "3.9.13"
  },
  "orig_nbformat": 4,
  "vscode": {
   "interpreter": {
    "hash": "797275cac0bda5bc3fb52dfb9729462aa6cfb1626abddbbb754ea920c4a4033e"
   }
  }
 },
 "nbformat": 4,
 "nbformat_minor": 2
}
