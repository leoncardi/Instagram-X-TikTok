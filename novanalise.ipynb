{
 "cells": [
  {
   "cell_type": "code",
   "execution_count": 38,
   "metadata": {},
   "outputs": [
    {
     "name": "stdout",
     "output_type": "stream",
     "text": [
      "             regiao  usuarios\n",
      "0     Ásia-Pacífico       893\n",
      "1            Europa       338\n",
      "2    América do Sul       289\n",
      "3  América do Norte       222\n",
      "4     Oriente Médio       112\n",
      "5            África        96\n",
      "6         Austrália        22\n",
      "\n",
      "             regiao  usuarios\n",
      "0     Asia-Pacifico       598\n",
      "1  America do Norte       163\n",
      "2            Europa       257\n",
      "3             LATAM       288\n",
      "4              MENA       127\n"
     ]
    }
   ],
   "source": [
    "import pandas as pd\n",
    "\n",
    "# dados da empresa A\n",
    "a_regioes = ['Ásia-Pacífico', 'Europa', 'América do Sul', 'América do Norte', 'Oriente Médio', 'África', 'Austrália']\n",
    "a_usuarios = [893, 338, 289, 222, 112, 96, 22]\n",
    "\n",
    "# dados da empresa B\n",
    "b_regioes = ['Asia-Pacifico', 'America do Norte', 'Europa', 'LATAM', 'MENA']\n",
    "b_usuarios = [598, 163, 257, 288, 127]\n",
    "\n",
    "df_a = pd.DataFrame({'regiao': a_regioes, 'usuarios': a_usuarios})\n",
    "print(df_a)\n",
    "\n",
    "df_b = pd.DataFrame({'regiao': b_regioes, 'usuarios': b_usuarios})\n",
    "print(df_b)"
   ]
  },
  {
   "cell_type": "code",
   "execution_count": 39,
   "metadata": {},
   "outputs": [
    {
     "name": "stdout",
     "output_type": "stream",
     "text": [
      "             regiao  usuarios\n",
      "0  America do Norte       222\n",
      "1     Asia-Pacifico       915\n",
      "2            Europa       338\n",
      "3             LATAM       289\n",
      "4              MENA       208\n",
      "   regiao  usuarios\n",
      "0  Europa       257\n"
     ]
    }
   ],
   "source": [
    "# Criar um dicionário para mapear nomes de regiões da empresa A para a empresa B\n",
    "mapa_regioes = {\n",
    "    'Ásia-Pacífico': 'Asia-Pacifico',\n",
    "    'Europa': 'Europa',\n",
    "    'América do Sul': 'LATAM',\n",
    "    'América do Norte': 'America do Norte',\n",
    "    'Oriente Médio': 'MENA',\n",
    "    'África': 'MENA',\n",
    "    'Austrália': 'Asia-Pacifico'\n",
    "}\n",
    "\n",
    "# Criar dataframes para a empresa A e B\n",
    "df_a = pd.DataFrame({'regiao': a_regioes, 'usuarios': a_usuarios})\n",
    "df_b = pd.DataFrame({'regiao': b_regioes, 'usuarios': b_usuarios})\n",
    "\n",
    "# Padronizar as categorias de região\n",
    "df_a['regiao'] = df_a['regiao'].map(mapa_regioes)\n",
    "df_b['regiao'] = df_b['regiao'].map(mapa_regioes)\n",
    "\n",
    "# Agrupar os dados por região e somar o número de usuários em cada região\n",
    "df_a_soma = df_a.groupby('regiao').sum().reset_index()\n",
    "df_b_soma = df_b.groupby('regiao').sum().reset_index()\n",
    "\n",
    "# Exibir os dataframes somados\n",
    "print(df_a_soma)\n",
    "print(df_b_soma)"
   ]
  }
 ],
 "metadata": {
  "kernelspec": {
   "display_name": "base",
   "language": "python",
   "name": "python3"
  },
  "language_info": {
   "codemirror_mode": {
    "name": "ipython",
    "version": 3
   },
   "file_extension": ".py",
   "mimetype": "text/x-python",
   "name": "python",
   "nbconvert_exporter": "python",
   "pygments_lexer": "ipython3",
   "version": "3.9.13"
  },
  "orig_nbformat": 4,
  "vscode": {
   "interpreter": {
    "hash": "797275cac0bda5bc3fb52dfb9729462aa6cfb1626abddbbb754ea920c4a4033e"
   }
  }
 },
 "nbformat": 4,
 "nbformat_minor": 2
}
